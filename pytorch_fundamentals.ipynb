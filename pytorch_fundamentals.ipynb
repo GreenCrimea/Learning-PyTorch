{
 "cells": [
  {
   "cell_type": "markdown",
   "metadata": {},
   "source": [
    "PyTorch Fundamentals"
   ]
  },
  {
   "cell_type": "code",
   "execution_count": null,
   "metadata": {},
   "outputs": [],
   "source": [
    "import torch\n",
    "import pandas as pd\n",
    "import numpy as np\n",
    "import matplotlib.pyplot as plt\n",
    "print(torch.__version__)"
   ]
  },
  {
   "cell_type": "markdown",
   "metadata": {},
   "source": [
    "### Introduction to Tensors"
   ]
  },
  {
   "cell_type": "markdown",
   "metadata": {},
   "source": [
    "## creating tensors\n"
   ]
  },
  {
   "cell_type": "markdown",
   "metadata": {},
   "source": [
    "https://pytorch.org/docs/stable/tensors.html"
   ]
  },
  {
   "cell_type": "code",
   "execution_count": null,
   "metadata": {},
   "outputs": [],
   "source": [
    "#scalar\n",
    "scalar = torch.tensor(7)\n",
    "scalar"
   ]
  },
  {
   "cell_type": "code",
   "execution_count": null,
   "metadata": {},
   "outputs": [],
   "source": [
    "#number of dimensions\n",
    "#scalar has 0 dimensions - is a single number\n",
    "scalar.ndim"
   ]
  },
  {
   "cell_type": "code",
   "execution_count": null,
   "metadata": {},
   "outputs": [],
   "source": [
    "#get tensor back as python int\n",
    "scalar.item()"
   ]
  },
  {
   "cell_type": "code",
   "execution_count": null,
   "metadata": {},
   "outputs": [],
   "source": [
    "#vector\n",
    "vector = torch.tensor([7,7])\n",
    "vector"
   ]
  },
  {
   "cell_type": "code",
   "execution_count": null,
   "metadata": {},
   "outputs": [],
   "source": [
    "#vector has 1 dimensions\n",
    "vector.ndim"
   ]
  },
  {
   "cell_type": "code",
   "execution_count": null,
   "metadata": {},
   "outputs": [],
   "source": [
    "#MATRIX\n",
    "\n",
    "MATRIX = torch.tensor([[7, 8],\n",
    "                       [9, 10]])\n",
    "MATRIX"
   ]
  },
  {
   "cell_type": "code",
   "execution_count": null,
   "metadata": {},
   "outputs": [],
   "source": [
    "#matrix has 2 dimensions\n",
    "MATRIX.ndim"
   ]
  },
  {
   "cell_type": "code",
   "execution_count": null,
   "metadata": {},
   "outputs": [],
   "source": [
    "#get matrix values\n",
    "print(MATRIX[0])\n",
    "print(MATRIX[1])\n",
    "print(MATRIX[0][0])"
   ]
  },
  {
   "cell_type": "code",
   "execution_count": null,
   "metadata": {},
   "outputs": [],
   "source": [
    "#get matrix shape\n",
    "MATRIX.shape"
   ]
  },
  {
   "cell_type": "code",
   "execution_count": null,
   "metadata": {},
   "outputs": [],
   "source": [
    "#TENSOR\n",
    "TENSOR = torch.tensor([[[1, 2, 3],\n",
    "                        [4, 5, 6],\n",
    "                        [7, 8, 9]]])\n",
    "TENSOR"
   ]
  },
  {
   "cell_type": "code",
   "execution_count": null,
   "metadata": {},
   "outputs": [],
   "source": [
    "#tensor has 3 dimensions\n",
    "TENSOR.ndim"
   ]
  },
  {
   "cell_type": "code",
   "execution_count": null,
   "metadata": {},
   "outputs": [],
   "source": [
    "#get tensor shape\n",
    "TENSOR.shape"
   ]
  },
  {
   "cell_type": "code",
   "execution_count": null,
   "metadata": {},
   "outputs": [],
   "source": [
    "#tensor indexing\n",
    "print(TENSOR[0])\n",
    "print(TENSOR[0][0])\n",
    "print(TENSOR[0][0][0])"
   ]
  },
  {
   "cell_type": "code",
   "execution_count": null,
   "metadata": {},
   "outputs": [],
   "source": [
    "#convention is to use lowercase var names for scalar and vector\n",
    "#uppercase for MATRIX and TENSOR"
   ]
  },
  {
   "cell_type": "markdown",
   "metadata": {},
   "source": [
    "## random tensors"
   ]
  },
  {
   "cell_type": "markdown",
   "metadata": {},
   "source": [
    "random tensors are important as a neural network will begin with random data in their tensors, and then adjust those tensors to better represent the data"
   ]
  },
  {
   "cell_type": "code",
   "execution_count": null,
   "metadata": {},
   "outputs": [],
   "source": [
    "#create a random tensor of size (1, 3, 4)\n",
    "RAND_TENSOR = torch.rand(1, 3, 4)\n",
    "RAND_TENSOR"
   ]
  },
  {
   "cell_type": "code",
   "execution_count": null,
   "metadata": {},
   "outputs": [],
   "source": [
    "RAND_TENSOR.ndim"
   ]
  },
  {
   "cell_type": "code",
   "execution_count": null,
   "metadata": {},
   "outputs": [],
   "source": [
    "#create random tensor with similar shape to an image tensor\n",
    "RAND_IMG_TENSOR = torch.rand(224, 224, 3)\n",
    "RAND_IMG_TENSOR.shape, RAND_IMG_TENSOR.ndim"
   ]
  },
  {
   "cell_type": "markdown",
   "metadata": {},
   "source": [
    "## Zeros and ones tensors"
   ]
  },
  {
   "cell_type": "code",
   "execution_count": null,
   "metadata": {},
   "outputs": [],
   "source": [
    "#tensor of all zeros\n",
    "ZERO_TENSOR = torch.zeros(3, 4)\n",
    "ZERO_TENSOR"
   ]
  },
  {
   "cell_type": "code",
   "execution_count": null,
   "metadata": {},
   "outputs": [],
   "source": [
    "#tensor of all ones\n",
    "ONES_TENSOR = torch.ones(3, 4)\n",
    "ONES_TENSOR"
   ]
  },
  {
   "cell_type": "code",
   "execution_count": null,
   "metadata": {},
   "outputs": [],
   "source": [
    "#check dtype of tensor\n",
    "ONES_TENSOR.dtype, ZERO_TENSOR.dtype"
   ]
  },
  {
   "cell_type": "markdown",
   "metadata": {},
   "source": [
    "## Create a range of tensors and tensors-like"
   ]
  },
  {
   "cell_type": "code",
   "execution_count": null,
   "metadata": {},
   "outputs": [],
   "source": [
    "#using torch.arange\n",
    "ONE_TO_TEN = torch.arange(1, 11)\n",
    "ONE_TO_TEN"
   ]
  },
  {
   "cell_type": "code",
   "execution_count": null,
   "metadata": {},
   "outputs": [],
   "source": [
    "#works like built-in range\n",
    "RANGE_TENSOR = torch.arange(34, 887, 16)\n",
    "RANGE_TENSOR"
   ]
  },
  {
   "cell_type": "code",
   "execution_count": null,
   "metadata": {},
   "outputs": [],
   "source": [
    "#create tensors-like\n",
    "TEN_ZERO_TENSOR = torch.zeros_like(input=ONE_TO_TEN)\n",
    "TEN_ZERO_TENSOR\n",
    "#creates a tensor of the same shape as the input"
   ]
  },
  {
   "cell_type": "markdown",
   "metadata": {},
   "source": [
    "## Tensor Datatypes"
   ]
  },
  {
   "cell_type": "markdown",
   "metadata": {},
   "source": [
    "**note**\n",
    "Tensor datatypes are one of the 3 major errors when using pytorch and deep learning\n",
    "\n",
    "1. tensors are wrong datatype\n",
    "2. tensors are wrong shape\n",
    "3. tensors are on the wrong device"
   ]
  },
  {
   "cell_type": "code",
   "execution_count": null,
   "metadata": {},
   "outputs": [],
   "source": [
    "#float32 tensor\n",
    "\n",
    "\n",
    "FLOAT_32_TENSOR = torch.tensor([1.0, 2.0, 3.0], \n",
    "                               dtype=None,     #what datatype, float16, float32\n",
    "                               device=None,             #GPU, CPU OR TPU\n",
    "                               requires_grad=False)     #does pytorch track gradients\n",
    "FLOAT_32_TENSOR"
   ]
  },
  {
   "cell_type": "code",
   "execution_count": null,
   "metadata": {},
   "outputs": [],
   "source": [
    "FLOAT_32_TENSOR.dtype"
   ]
  },
  {
   "cell_type": "code",
   "execution_count": null,
   "metadata": {},
   "outputs": [],
   "source": [
    "FLOAT_16_TENSOR = FLOAT_32_TENSOR.type(torch.float16)\n",
    "FLOAT_16_TENSOR.dtype"
   ]
  },
  {
   "cell_type": "code",
   "execution_count": null,
   "metadata": {},
   "outputs": [],
   "source": [
    "NEW_TENSOR = FLOAT_32_TENSOR * FLOAT_16_TENSOR\n",
    "NEW_TENSOR.dtype"
   ]
  },
  {
   "cell_type": "code",
   "execution_count": null,
   "metadata": {},
   "outputs": [],
   "source": [
    "INT_32_TENSOR = torch.tensor([1, 2, 3], \n",
    "                               dtype=torch.int32,    \n",
    "                               device=None,          \n",
    "                               requires_grad=False)  \n",
    "INT_32_TENSOR.dtype"
   ]
  },
  {
   "cell_type": "code",
   "execution_count": null,
   "metadata": {},
   "outputs": [],
   "source": [
    "NEW_TENSOR = INT_32_TENSOR * FLOAT_16_TENSOR\n",
    "NEW_TENSOR.dtype"
   ]
  },
  {
   "cell_type": "markdown",
   "metadata": {},
   "source": []
  },
  {
   "cell_type": "markdown",
   "metadata": {},
   "source": [
    "## Get info from tensors - tensor attributes"
   ]
  },
  {
   "cell_type": "code",
   "execution_count": null,
   "metadata": {},
   "outputs": [],
   "source": [
    "#create tensor\n",
    "SOME_TENSOR = torch.rand(3, 4)\n",
    "SOME_TENSOR"
   ]
  },
  {
   "cell_type": "code",
   "execution_count": null,
   "metadata": {},
   "outputs": [],
   "source": [
    "#find info of tensors\n",
    "print(SOME_TENSOR)\n",
    "print(SOME_TENSOR.dtype)\n",
    "print(SOME_TENSOR.shape)\n",
    "print(SOME_TENSOR.size())\n",
    "print(SOME_TENSOR.device)"
   ]
  },
  {
   "cell_type": "markdown",
   "metadata": {},
   "source": [
    "## manipulating tensors - tensor operations"
   ]
  },
  {
   "cell_type": "markdown",
   "metadata": {},
   "source": [
    "tensor operations include\n",
    "- addition\n",
    "- subtraction\n",
    "- multiplication (element-wise)\n",
    "- division\n",
    "- matrix-multiplication"
   ]
  },
  {
   "cell_type": "code",
   "execution_count": null,
   "metadata": {},
   "outputs": [],
   "source": [
    "#create a tensor and add 10\n",
    "TENSOR = torch.tensor([1, 2, 3])\n",
    "print(TENSOR)\n",
    "TENSOR = TENSOR + 10\n",
    "TENSOR"
   ]
  },
  {
   "cell_type": "code",
   "execution_count": null,
   "metadata": {},
   "outputs": [],
   "source": [
    "#multiply by 10\n",
    "TENSOR = TENSOR * 10\n",
    "TENSOR"
   ]
  },
  {
   "cell_type": "code",
   "execution_count": null,
   "metadata": {},
   "outputs": [],
   "source": [
    "#subtract 10\n",
    "TENSOR = TENSOR - 10\n",
    "TENSOR"
   ]
  },
  {
   "cell_type": "code",
   "execution_count": null,
   "metadata": {},
   "outputs": [],
   "source": [
    "#divide by 10\n",
    "TENSOR = TENSOR / 10\n",
    "TENSOR"
   ]
  },
  {
   "cell_type": "code",
   "execution_count": null,
   "metadata": {},
   "outputs": [],
   "source": [
    "#pytorch inbuilt functions\n",
    "from torch import tensor\n",
    "\n",
    "\n",
    "print(torch.mul(TENSOR, 10))\n",
    "print(torch.add(TENSOR, 10))\n",
    "print(torch.sub(TENSOR, 10))\n",
    "print(torch.div(TENSOR, 10))"
   ]
  },
  {
   "cell_type": "markdown",
   "metadata": {},
   "source": [
    "## Matrix multiplication"
   ]
  },
  {
   "cell_type": "markdown",
   "metadata": {},
   "source": [
    "2 main ways to preform multiplication on tensors\n",
    "\n",
    "1. element-wise\n",
    "2. matrix\n",
    "\n",
    "there are 2 main rules matmul must satisfy\n",
    "\n",
    "1. the inner dimensions must match\n",
    "\n",
    "2. the resulting matrix has the shape of the outer dimensions"
   ]
  },
  {
   "cell_type": "code",
   "execution_count": null,
   "metadata": {},
   "outputs": [],
   "source": [
    "#element-wise\n",
    "TENSOR = torch.tensor([[1, 2, 3], [7, 8, 9]])\n",
    "TENSOR2 = torch.tensor([[4, 5, 6], [10, 11, 12]])\n",
    "TENSOR3 = TENSOR * TENSOR2\n",
    "print(TENSOR)\n",
    "print(TENSOR2)\n",
    "TENSOR3"
   ]
  },
  {
   "cell_type": "code",
   "execution_count": null,
   "metadata": {},
   "outputs": [],
   "source": [
    "#matrix multiplication\n",
    "TENSOR = torch.tensor([[1, 2, 3], [7, 8, 9]])\n",
    "TENSOR2 = torch.tensor([[4, 5], [6, 10], [11, 12]])\n",
    "TENSOR4 = torch.matmul(TENSOR, TENSOR2)\n",
    "TENSOR5 = torch.zeros(len(TENSOR), len(TENSOR2[0]))\n",
    "TENSOR4"
   ]
  },
  {
   "cell_type": "code",
   "execution_count": null,
   "metadata": {},
   "outputs": [],
   "source": [
    "#matrix multiplication by hand\n",
    "#compare time to using torch.matmul"
   ]
  },
  {
   "cell_type": "code",
   "execution_count": null,
   "metadata": {},
   "outputs": [],
   "source": [
    "%%time\n",
    "# iterate through rows of X\n",
    "for i in range(len(TENSOR)):\n",
    "   # iterate through columns of Y\n",
    "   for j in range(len(TENSOR2[0])):\n",
    "       # iterate through rows of Y\n",
    "       for k in range(len(TENSOR2)):\n",
    "           TENSOR5[i][j] += TENSOR[i][k] * TENSOR2[k][j]\n",
    "\n",
    "TENSOR5"
   ]
  },
  {
   "cell_type": "code",
   "execution_count": null,
   "metadata": {},
   "outputs": [],
   "source": [
    "%%time\n",
    "TENSOR4 = torch.matmul(TENSOR, TENSOR2)\n",
    "TENSOR4"
   ]
  },
  {
   "cell_type": "markdown",
   "metadata": {},
   "source": [
    "## shape errors"
   ]
  },
  {
   "cell_type": "code",
   "execution_count": null,
   "metadata": {},
   "outputs": [],
   "source": [
    "#shapes for matmul\n",
    "\n",
    "TENSOR_a = torch.rand(2, 3)\n",
    "TENSOR_b = torch.rand(2, 3)\n",
    "#torch.mm(TENSOR_a, TENSOR_b)    #mm is equivalent to matmul"
   ]
  },
  {
   "cell_type": "markdown",
   "metadata": {},
   "source": [
    "to fix the shape issue above, the shape can be manipulated with transpose (torch.T)\n",
    "\n",
    "switches the axis or dimensions"
   ]
  },
  {
   "cell_type": "code",
   "execution_count": null,
   "metadata": {},
   "outputs": [],
   "source": [
    "TENSOR_b.T\n",
    "TENSOR_b.shape"
   ]
  },
  {
   "cell_type": "code",
   "execution_count": null,
   "metadata": {},
   "outputs": [],
   "source": [
    "torch.mm(TENSOR_a, TENSOR_b.T)"
   ]
  },
  {
   "cell_type": "code",
   "execution_count": null,
   "metadata": {},
   "outputs": [],
   "source": [
    "torch.mm(TENSOR_a.T, TENSOR_b)"
   ]
  },
  {
   "cell_type": "markdown",
   "metadata": {},
   "source": [
    "## Tensor aggregation (min, max, mean, sum, ect)"
   ]
  },
  {
   "cell_type": "code",
   "execution_count": null,
   "metadata": {},
   "outputs": [],
   "source": [
    "TENSOR = torch.arange(0, 100, 10)\n",
    "TENSOR"
   ]
  },
  {
   "cell_type": "code",
   "execution_count": null,
   "metadata": {},
   "outputs": [],
   "source": [
    "#min\n",
    "torch.min(TENSOR), TENSOR.min()"
   ]
  },
  {
   "cell_type": "code",
   "execution_count": null,
   "metadata": {},
   "outputs": [],
   "source": [
    "#max\n",
    "torch.max(TENSOR), TENSOR.max()"
   ]
  },
  {
   "cell_type": "code",
   "execution_count": null,
   "metadata": {},
   "outputs": [],
   "source": [
    "#mean must be float or complex tensor dtype\n",
    "print(TENSOR.dtype)"
   ]
  },
  {
   "cell_type": "code",
   "execution_count": null,
   "metadata": {},
   "outputs": [],
   "source": [
    "#mean\n",
    "torch.mean(TENSOR.type(torch.float32)), TENSOR.type(torch.float32).mean()"
   ]
  },
  {
   "cell_type": "code",
   "execution_count": null,
   "metadata": {},
   "outputs": [],
   "source": [
    "#sum\n",
    "torch.sum(TENSOR), TENSOR.sum()"
   ]
  },
  {
   "cell_type": "code",
   "execution_count": null,
   "metadata": {},
   "outputs": [],
   "source": [
    "#find indexes\n",
    "torch.argmin(TENSOR), torch.argmax(TENSOR)"
   ]
  },
  {
   "cell_type": "markdown",
   "metadata": {},
   "source": [
    "## reshaping, stacking, squeezing and unsqueezing tensors\n"
   ]
  },
  {
   "cell_type": "markdown",
   "metadata": {},
   "source": [
    "reshape =  reshapes a tensor to a defines shape\n",
    "\n",
    "view = see a tensor in a certain shape, but dont edit the underlying tensor\n",
    "\n",
    "stacking = combine multiple tensors vertically (vstack) or horizontially (hstack)\n",
    "\n",
    "squeeze = removes all 1 dimensions from a tensor\n",
    "\n",
    "unsqueeze = adds a 1 dimension to a tensor\n",
    "\n",
    "permute = returns a view of a tensor with dimensions permuted "
   ]
  },
  {
   "cell_type": "code",
   "execution_count": null,
   "metadata": {},
   "outputs": [],
   "source": [
    "TENSOR = torch.arange(1., 10.)\n",
    "TENSOR, TENSOR.shape"
   ]
  },
  {
   "cell_type": "code",
   "execution_count": null,
   "metadata": {},
   "outputs": [],
   "source": [
    "#add a dimension\n",
    "TENSOR.reshape(3, 3), TENSOR.reshape(9, 1), TENSOR.reshape(1, 9)"
   ]
  },
  {
   "cell_type": "code",
   "execution_count": null,
   "metadata": {},
   "outputs": [],
   "source": [
    "#change the view\n",
    "TENSOR_view = TENSOR.reshape(3, 3)\n",
    "TENSOR_view"
   ]
  },
  {
   "cell_type": "code",
   "execution_count": null,
   "metadata": {},
   "outputs": [],
   "source": [
    "#changing the view tensor will also change the original, only the output view is different\n",
    "print(TENSOR, TENSOR_view)\n",
    "TENSOR_view[0][0] = 100\n",
    "print(TENSOR, TENSOR_view)"
   ]
  },
  {
   "cell_type": "code",
   "execution_count": null,
   "metadata": {},
   "outputs": [],
   "source": [
    "#stack tensors\n",
    "TENSOR_stacked1 = torch.stack([TENSOR, TENSOR, TENSOR], dim=0)\n",
    "print(TENSOR_stacked1)\n",
    "TENSOR_stacked2 = torch.stack([TENSOR, TENSOR, TENSOR], dim=1)\n",
    "print(TENSOR_stacked2)\n",
    "TENSOR_stacked3 = torch.vstack([TENSOR, TENSOR, TENSOR])\n",
    "print(TENSOR_stacked3)\n",
    "TENSOR_stacked4 = torch.hstack([TENSOR, TENSOR, TENSOR])\n",
    "print(TENSOR_stacked4)\n",
    "print(TENSOR_stacked4.ndim)"
   ]
  },
  {
   "cell_type": "code",
   "execution_count": null,
   "metadata": {},
   "outputs": [],
   "source": [
    "#squeeze\n",
    "TENSOR = torch.tensor([[1, 2, 3]])\n",
    "print(TENSOR, TENSOR.shape)\n",
    "TENSOR = TENSOR.squeeze()\n",
    "print(TENSOR, TENSOR.shape)"
   ]
  },
  {
   "cell_type": "code",
   "execution_count": null,
   "metadata": {},
   "outputs": [],
   "source": [
    "#unsqueeze\n",
    "TENSOR = torch.tensor([1, 2, 3])\n",
    "print(TENSOR, TENSOR.shape)\n",
    "TENSOR = TENSOR.unsqueeze(0)\n",
    "print(TENSOR, TENSOR.shape)\n",
    "TENSOR = torch.tensor([1, 2, 3])\n",
    "TENSOR = TENSOR.unsqueeze(1)\n",
    "print(TENSOR, TENSOR.shape)"
   ]
  },
  {
   "cell_type": "code",
   "execution_count": null,
   "metadata": {},
   "outputs": [],
   "source": [
    "#permute\n",
    "TENSOR = torch.rand(size=(224, 224, 3))\n",
    "print(TENSOR.shape)\n",
    "TENSOR_permuted = TENSOR.permute(2, 0, 1)\n",
    "print(TENSOR_permuted.shape)"
   ]
  },
  {
   "cell_type": "markdown",
   "metadata": {},
   "source": [
    "## indexing data from tensors"
   ]
  },
  {
   "cell_type": "code",
   "execution_count": null,
   "metadata": {},
   "outputs": [],
   "source": [
    "#create a tensor\n",
    "TENSOR = torch.arange(1, 10).reshape(1, 3, 3)\n",
    "print(TENSOR)"
   ]
  },
  {
   "cell_type": "code",
   "execution_count": null,
   "metadata": {},
   "outputs": [],
   "source": [
    "print(TENSOR[0])\n",
    "print(TENSOR[0][0])\n",
    "print(TENSOR[0][0][0])"
   ]
  },
  {
   "cell_type": "code",
   "execution_count": null,
   "metadata": {},
   "outputs": [],
   "source": [
    "# ':' will select all of a target dimension\n",
    "print(TENSOR[:, 0])\n",
    "\n",
    "#get all values of 0 and 1st dim, but 1st index of 2nd\n",
    "print(TENSOR[:, :, 1])\n",
    "\n",
    "#get all values of 0 dim, but 1 index of 1st and 3rd\n",
    "print(TENSOR[:, 1, 1])\n",
    "\n",
    "#get index 0 of 0 and 1 dim, and all values of 2nd\n",
    "print(TENSOR[0, 0, :])\n",
    "\n",
    "#return 9 and 3, 6, 9\n",
    "print(TENSOR[0, 2, 2])\n",
    "print(TENSOR[:, :, 2])"
   ]
  },
  {
   "cell_type": "markdown",
   "metadata": {},
   "source": [
    "## Pytorch tensors and NumPy"
   ]
  },
  {
   "cell_type": "markdown",
   "metadata": {},
   "source": [
    "pytorch can interact with numpy\n",
    "\n",
    "* data in numpy can convert to tensor -> torch.from_numpy(ndarray)\n",
    "* pytorch to numpy -> torch.tensor.numpy()"
   ]
  },
  {
   "cell_type": "code",
   "execution_count": null,
   "metadata": {},
   "outputs": [],
   "source": [
    "#numpy is float64 by default\n",
    "array = np.arange(1., 8.)\n",
    "TENSOR = torch.from_numpy(array)\n",
    "print(array, \"\\n\", TENSOR)"
   ]
  },
  {
   "cell_type": "code",
   "execution_count": null,
   "metadata": {},
   "outputs": [],
   "source": [
    "#tensor to numpy\n",
    "TENSOR = torch.ones(7)\n",
    "np_array = TENSOR.numpy()\n",
    "print(TENSOR, \"\\n\", np_array, \"\\n\", np_array.dtype)"
   ]
  },
  {
   "cell_type": "markdown",
   "metadata": {},
   "source": [
    "## Reproducibility"
   ]
  },
  {
   "cell_type": "code",
   "execution_count": null,
   "metadata": {},
   "outputs": [],
   "source": [
    "#create 2 random tensors\n",
    "a = torch.rand(3, 4)\n",
    "b = torch.rand(3, 4)\n",
    "\n",
    "print(a, \"\\n\", b, \"\\n\", a == b)"
   ]
  },
  {
   "cell_type": "code",
   "execution_count": null,
   "metadata": {},
   "outputs": [],
   "source": [
    "#reproduciblily random tensors\n",
    "\n",
    "#set random seed\n",
    "RANDOM_SEED = 1\n",
    "\n",
    "torch.manual_seed(RANDOM_SEED)\n",
    "c = torch.rand(3, 4)\n",
    "\n",
    "torch.manual_seed(RANDOM_SEED)\n",
    "d = torch.rand(3, 4)\n",
    "\n",
    "print(c, \"\\n\", d, \"\\n\", c == d)"
   ]
  }
 ],
 "metadata": {
  "kernelspec": {
   "display_name": "Python 3.8.14 ('.venv': venv)",
   "language": "python",
   "name": "python3"
  },
  "language_info": {
   "codemirror_mode": {
    "name": "ipython",
    "version": 3
   },
   "file_extension": ".py",
   "mimetype": "text/x-python",
   "name": "python",
   "nbconvert_exporter": "python",
   "pygments_lexer": "ipython3",
   "version": "3.8.14"
  },
  "orig_nbformat": 4,
  "vscode": {
   "interpreter": {
    "hash": "d7d1e8cf4ad6457268417d8c2bdfad5150dd68a8f64a3fdc24460c3366abf524"
   }
  }
 },
 "nbformat": 4,
 "nbformat_minor": 2
}
